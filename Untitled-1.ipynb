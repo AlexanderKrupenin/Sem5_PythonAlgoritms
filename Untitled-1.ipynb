{
 "cells": [
  {
   "cell_type": "code",
   "execution_count": null,
   "metadata": {},
   "outputs": [],
   "source": [
    "\n",
    "nested_lists = [\n",
    "    [1, 2, 3],\n",
    "    [4, 5, 6],\n",
    "    [7, 8, 9]\n",
    "]\n",
    "\n",
    "max_element = float('-inf')\n",
    "\n",
    "for sublist in nested_lists:\n",
    "    for number in sublist:\n",
    "        if number > max_element:\n",
    "            max_element = number\n",
    "\n",
    "print(\"Максимальный элемент:\", max_element)"
   ]
  },
  {
   "cell_type": "code",
   "execution_count": null,
   "metadata": {},
   "outputs": [],
   "source": [
    "my_list = [1, 2, [3, 4, [5, 6], 5], 4, 3]\n",
    "my_list[2][2].append(70)\n",
    "print(my_list)\n",
    "my_list[2].insert(3, 60)\n",
    "print(my_list)\n",
    "my_list[2][2].extend([80, 90, 100])\n",
    "print(my_list)"
   ]
  },
  {
   "cell_type": "code",
   "execution_count": 1,
   "metadata": {},
   "outputs": [
    {
     "name": "stdout",
     "output_type": "stream",
     "text": [
      "{'п': 0, 'и': 1, 'т': 2, 'о': 3, 'н': 4}\n"
     ]
    }
   ],
   "source": [
    "word = \"питон\"\n",
    "letter_dict = {}\n",
    "\n",
    "for index, letter in enumerate(word):\n",
    "    letter_dict[letter] = index\n",
    "\n",
    "print(letter_dict)"
   ]
  },
  {
   "cell_type": "code",
   "execution_count": 2,
   "metadata": {},
   "outputs": [
    {
     "name": "stdout",
     "output_type": "stream",
     "text": [
      "{'п': 0, 'и': 1, 'т': 2, 'о': 3, 'н': 4}\n"
     ]
    }
   ],
   "source": [
    "word = \"питон\"\n",
    "\n",
    "letter_dict = {letter: index for index, letter in enumerate(word)}\n",
    "\n",
    "print(letter_dict)"
   ]
  }
 ],
 "metadata": {
  "kernelspec": {
   "display_name": "Python 3",
   "language": "python",
   "name": "python3"
  },
  "language_info": {
   "codemirror_mode": {
    "name": "ipython",
    "version": 3
   },
   "file_extension": ".py",
   "mimetype": "text/x-python",
   "name": "python",
   "nbconvert_exporter": "python",
   "pygments_lexer": "ipython3",
   "version": "3.11.2"
  },
  "orig_nbformat": 4
 },
 "nbformat": 4,
 "nbformat_minor": 2
}
